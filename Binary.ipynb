{
 "cells": [
  {
   "cell_type": "code",
   "execution_count": 10,
   "metadata": {},
   "outputs": [
    {
     "name": "stdout",
     "output_type": "stream",
     "text": [
      "Element is present at index  2\n"
     ]
    }
   ],
   "source": [
    "\n",
    "def binarySearch (arr, l, r, x): \n",
    "\n",
    "\n",
    "    if r >= l: \n",
    "\n",
    "        mid = l + (r - l) // 2\n",
    "\n",
    "\n",
    "        if arr[mid] == x: \n",
    "            return mid \n",
    "\n",
    "        elif arr[mid] > x: \n",
    "            return binarySearch(arr, l, mid-1, x) \n",
    "\n",
    "        else: \n",
    "            return binarySearch(arr, mid + 1, r, x) \n",
    "\n",
    "    else: \n",
    "\n",
    "        return -1\n",
    "\n",
    "\n",
    "arr = [ 0,1,2,4,40 ] \n",
    "x = 2\n",
    "\n",
    "\n",
    "result = binarySearch(arr, 0, len(arr)-1, x) \n",
    "\n",
    "if result != -1: \n",
    "    print (\"Element is present at index % d\" % result) \n",
    "else: \n",
    "    print (\"Element is not present in array\") \n"
   ]
  },
  {
   "cell_type": "code",
   "execution_count": null,
   "metadata": {},
   "outputs": [],
   "source": []
  }
 ],
 "metadata": {
  "kernelspec": {
   "display_name": "Python 3",
   "language": "python",
   "name": "python3"
  },
  "language_info": {
   "codemirror_mode": {
    "name": "ipython",
    "version": 3
   },
   "file_extension": ".py",
   "mimetype": "text/x-python",
   "name": "python",
   "nbconvert_exporter": "python",
   "pygments_lexer": "ipython3",
   "version": "3.8.5"
  }
 },
 "nbformat": 4,
 "nbformat_minor": 4
}
