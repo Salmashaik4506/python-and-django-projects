{
 "cells": [
  {
   "cell_type": "code",
   "execution_count": 10,
   "metadata": {},
   "outputs": [
    {
     "name": "stdout",
     "output_type": "stream",
     "text": [
      "3 is absent\n"
     ]
    }
   ],
   "source": [
    "\n",
    "from bisect import bisect_left\n",
    "def BinarySearch(a, x): \n",
    "    i = bisect_left(a, x) \n",
    "    if i != len(a) and a[i] == x: \n",
    "        return i \n",
    "    else: \n",
    "        return -1\n",
    "\n",
    "a = [1, 2, 4, 4, 8] \n",
    "x = int(3) \n",
    "res = BinarySearch(a, x) \n",
    "if res == -1: \n",
    "    print(x, \"is absent\") \n",
    "else: \n",
    "    print(\"First occurrence of\", x, \"is present at\", res) \n"
   ]
  },
  {
   "cell_type": "code",
   "execution_count": null,
   "metadata": {},
   "outputs": [],
   "source": []
  }
 ],
 "metadata": {
  "kernelspec": {
   "display_name": "Python 3",
   "language": "python",
   "name": "python3"
  },
  "language_info": {
   "codemirror_mode": {
    "name": "ipython",
    "version": 3
   },
   "file_extension": ".py",
   "mimetype": "text/x-python",
   "name": "python",
   "nbconvert_exporter": "python",
   "pygments_lexer": "ipython3",
   "version": "3.8.5"
  }
 },
 "nbformat": 4,
 "nbformat_minor": 4
}
